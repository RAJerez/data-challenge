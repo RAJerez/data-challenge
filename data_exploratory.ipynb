{
 "cells": [
  {
   "cell_type": "code",
   "execution_count": 1,
   "metadata": {},
   "outputs": [],
   "source": [
    "import requests\n",
    "from datetime import datetime\n",
    "from pathlib import Path\n",
    "import pandas as pd\n",
    "\n",
    "BASE_FILE_DIR = Path('/tmp')\n",
    "file_path_crib = '{category}/{year}-{month:02d}/{category}-{day:02d}-{month:02d}-{year}.csv'"
   ]
  },
  {
   "cell_type": "code",
   "execution_count": 2,
   "metadata": {},
   "outputs": [],
   "source": [
    "categories=[\n",
    "    {\n",
    "        'name' : 'museo',\n",
    "        'url' : 'https://datos.cultura.gob.ar/dataset/37305de4-3cce-4d4b-9d9a-fec3ca61d09f/resource/4207def0-2ff7-41d5-9095-d42ae8207a5d/download/museos_datosabiertos.csv'\n",
    "    },\n",
    "    {\n",
    "        'name' : 'cines',\n",
    "        'url' : 'https://datos.cultura.gob.ar/dataset/37305de4-3cce-4d4b-9d9a-fec3ca61d09f/resource/f7a8edb8-9208-41b0-8f19-d72811dcea97/download/salas_cine.csv'\n",
    "    },\n",
    "    {\n",
    "        'name' : 'bibliotecas_populares',\n",
    "        'url' : 'https://datos.cultura.gob.ar/dataset/37305de4-3cce-4d4b-9d9a-fec3ca61d09f/resource/01c6c048-dbeb-44e0-8efa-6944f73715d7/download/11_bibliotecapopular-datos-abiertos.csv'\n",
    "    }\n",
    "]"
   ]
  },
  {
   "cell_type": "markdown",
   "metadata": {},
   "source": [
    "Museos"
   ]
  },
  {
   "cell_type": "code",
   "execution_count": null,
   "metadata": {},
   "outputs": [],
   "source": [
    "category_dict = categories[0]\n",
    "r = requests.get(category_dict['url'])\n",
    "r.encoding = 'utf-8'"
   ]
  },
  {
   "cell_type": "code",
   "execution_count": null,
   "metadata": {},
   "outputs": [],
   "source": [
    "now = datetime.now()\n",
    "\n",
    "file_path = file_path_crib.format(category=category_dict['name'], year=now.year, month=now.month, day=now.day)\n",
    "\n",
    "m_path = BASE_FILE_DIR / file_path\n",
    "m_path.parent.mkdir(parents=True, exist_ok=True)\n",
    "\n",
    "## Save file\n",
    "with open(m_path, 'w') as f_out:\n",
    "    f_out.write(r.text)"
   ]
  },
  {
   "cell_type": "markdown",
   "metadata": {},
   "source": [
    "Transform"
   ]
  },
  {
   "cell_type": "code",
   "execution_count": null,
   "metadata": {},
   "outputs": [],
   "source": [
    "df = pd.read_csv(m_path)"
   ]
  },
  {
   "cell_type": "code",
   "execution_count": null,
   "metadata": {},
   "outputs": [],
   "source": [
    "df.head()"
   ]
  },
  {
   "cell_type": "code",
   "execution_count": null,
   "metadata": {},
   "outputs": [],
   "source": [
    "df.columns"
   ]
  },
  {
   "cell_type": "code",
   "execution_count": null,
   "metadata": {},
   "outputs": [],
   "source": [
    "renamed_cols = {\n",
    "    'Cod_Loc' : 'cod_localidad',\n",
    "    'IdProvincia' : 'id_provincia',\n",
    "    'IdDepartamento' : 'id_departamento',\n",
    "    'direccion' : 'domicilio',\n",
    "    'CP' : 'codigo postal',\n",
    "    'telefono' : 'numero de telefono',\n",
    "    'Mail' : 'mail',\n",
    "    'Web' : 'web'\n",
    "}\n",
    "\n",
    "df = df.rename(columns = renamed_cols)\n",
    "\n",
    "column_list = [\n",
    "    'cod_localidad',\n",
    "    'id_provincia',\n",
    "    'id_departamento',\n",
    "    'categoria',\n",
    "    'provincia',\n",
    "    'localidad',\n",
    "    'nombre',\n",
    "    'domicilio',\n",
    "    'codigo postal',\n",
    "    'numero de telefono',\n",
    "    'mail',\n",
    "    'web'\n",
    "]\n",
    "\n",
    "df_m= df[column_list]"
   ]
  },
  {
   "cell_type": "markdown",
   "metadata": {},
   "source": [
    "Cines"
   ]
  },
  {
   "cell_type": "code",
   "execution_count": null,
   "metadata": {},
   "outputs": [],
   "source": [
    "category_dict = categories[1]\n",
    "r = requests.get(category_dict['url'])\n",
    "r.encoding = 'utf-8'"
   ]
  },
  {
   "cell_type": "code",
   "execution_count": null,
   "metadata": {},
   "outputs": [],
   "source": [
    "now = datetime.now()\n",
    "\n",
    "file_path = file_path_crib.format(category=category_dict['name'], year=now.year, month=now.month, day=now.day)\n",
    "\n",
    "m_path = BASE_FILE_DIR / file_path\n",
    "m_path.parent.mkdir(parents=True, exist_ok=True)\n",
    "\n",
    "## Save file\n",
    "with open(m_path, 'w') as f_out:\n",
    "    f_out.write(r.text)"
   ]
  },
  {
   "cell_type": "markdown",
   "metadata": {},
   "source": [
    "Transform"
   ]
  },
  {
   "cell_type": "code",
   "execution_count": null,
   "metadata": {},
   "outputs": [],
   "source": [
    "df = pd.read_csv(m_path)\n",
    "df.head()"
   ]
  },
  {
   "cell_type": "code",
   "execution_count": null,
   "metadata": {},
   "outputs": [],
   "source": [
    "df.groupby('Provincia', as_index=False).count()[['Provincia','Pantallas','Butacas','espacio_INCAA']]"
   ]
  },
  {
   "cell_type": "code",
   "execution_count": null,
   "metadata": {},
   "outputs": [],
   "source": [
    "df.dtypes"
   ]
  },
  {
   "cell_type": "code",
   "execution_count": null,
   "metadata": {},
   "outputs": [],
   "source": [
    "renamed_cols = {\n",
    "    'Cod_Loc' : 'cod_localidad',\n",
    "    'IdProvincia' : 'id_provincia',\n",
    "    'IdDepartamento' : 'id_departamento',\n",
    "    'Provincia' : 'provincia',\n",
    "    'Categoría' : 'categoria',\n",
    "    'Dirección' : 'domicilio',\n",
    "    'CP' : 'codigo postal',\n",
    "    'Localidad' : 'localidad',\n",
    "    'Nombre' : 'nombre',\n",
    "    'Domicilio' : 'domicilio',\n",
    "    'Teléfono' : 'numero de telefono',\n",
    "    'Mail' : 'mail',\n",
    "    'Web' : 'web'\n",
    "}\n",
    "\n",
    "df = df.rename(columns = renamed_cols)\n",
    "\n",
    "column_list = [\n",
    "    'cod_localidad',\n",
    "    'id_provincia',\n",
    "    'id_departamento',\n",
    "    'categoria',\n",
    "    'provincia',\n",
    "    'localidad',\n",
    "    'nombre',\n",
    "    'domicilio',\n",
    "    'codigo postal',\n",
    "    'numero de telefono',\n",
    "    'mail',\n",
    "    'web'\n",
    "]\n",
    "\n",
    "df_cine = df[column_list]"
   ]
  },
  {
   "cell_type": "markdown",
   "metadata": {},
   "source": [
    "Bibliotecas"
   ]
  },
  {
   "cell_type": "code",
   "execution_count": null,
   "metadata": {},
   "outputs": [],
   "source": [
    "category_dict = categories[2]\n",
    "r = requests.get(category_dict['url'])\n",
    "r.encoding = 'utf-8'"
   ]
  },
  {
   "cell_type": "code",
   "execution_count": null,
   "metadata": {},
   "outputs": [],
   "source": [
    "now = datetime.now()\n",
    "\n",
    "file_path = file_path_crib.format(category=category_dict['name'], year=now.year, month=now.month, day=now.day)\n",
    "\n",
    "m_path = BASE_FILE_DIR / file_path\n",
    "m_path.parent.mkdir(parents=True, exist_ok=True)\n",
    "\n",
    "## Save file\n",
    "with open(m_path, 'w') as f_out:\n",
    "    f_out.write(r.text)"
   ]
  },
  {
   "cell_type": "code",
   "execution_count": null,
   "metadata": {},
   "outputs": [],
   "source": [
    "df = pd.read_csv(m_path)\n",
    "df.head()"
   ]
  },
  {
   "cell_type": "code",
   "execution_count": null,
   "metadata": {},
   "outputs": [],
   "source": [
    "renamed_cols = {\n",
    "    'Cod_Loc' : 'cod_localidad',\n",
    "    'IdProvincia' : 'id_provincia',\n",
    "    'IdDepartamento' : 'id_departamento',\n",
    "    'Provincia' : 'provincia',\n",
    "    'Categoría' : 'categoria',\n",
    "    'Dirección' : 'domicilio',\n",
    "    'CP' : 'codigo postal',\n",
    "    'Localidad' : 'localidad',\n",
    "    'Nombre' : 'nombre',\n",
    "    'Domicilio' : 'domicilio',\n",
    "    'Teléfono' : 'numero de telefono',\n",
    "    'Mail' : 'mail',\n",
    "    'Web' : 'web'\n",
    "}\n",
    "\n",
    "df = df.rename(columns = renamed_cols)\n",
    "\n",
    "column_list = [\n",
    "    'cod_localidad',\n",
    "    'id_provincia',\n",
    "    'id_departamento',\n",
    "    'categoria',\n",
    "    'provincia',\n",
    "    'localidad',\n",
    "    'nombre',\n",
    "    'domicilio',\n",
    "    'codigo postal',\n",
    "    'numero de telefono',\n",
    "    'mail',\n",
    "    'web'\n",
    "]\n",
    "\n",
    "df_biblio = df[column_list]"
   ]
  },
  {
   "cell_type": "code",
   "execution_count": null,
   "metadata": {},
   "outputs": [],
   "source": [
    "df_biblio['id_departamento'].isna().unique()"
   ]
  },
  {
   "cell_type": "markdown",
   "metadata": {},
   "source": [
    "Lets generate a dict with all the dfs"
   ]
  },
  {
   "cell_type": "code",
   "execution_count": null,
   "metadata": {},
   "outputs": [],
   "source": [
    "dfs = {\n",
    "    'asd' : df_m,\n",
    "    'fda' : df_cine,\n",
    "    'gfd' : df_biblio\n",
    "    }"
   ]
  },
  {
   "cell_type": "code",
   "execution_count": null,
   "metadata": {},
   "outputs": [],
   "source": [
    "dfss = pd.concat(dfs, axis=0)"
   ]
  },
  {
   "cell_type": "code",
   "execution_count": null,
   "metadata": {},
   "outputs": [],
   "source": [
    "dfss.dtypes"
   ]
  },
  {
   "cell_type": "code",
   "execution_count": null,
   "metadata": {},
   "outputs": [],
   "source": [
    "# Count by category\n",
    "dfss.groupby('categoria',as_index=False).size()"
   ]
  },
  {
   "cell_type": "code",
   "execution_count": null,
   "metadata": {},
   "outputs": [],
   "source": [
    "# Count by category and province\n",
    "dfss.groupby(['categoria','provincia'], as_index=False).size()"
   ]
  },
  {
   "cell_type": "code",
   "execution_count": null,
   "metadata": {},
   "outputs": [],
   "source": [
    "# Count by source\n",
    "lst = list()\n",
    "for name,df in dfs.items():\n",
    "    lst.append({'source:name', 'count', df.size})\n",
    "    \n",
    "pd.DataFrame(lst)"
   ]
  }
 ],
 "metadata": {
  "kernelspec": {
   "display_name": "data-challenge-DXj5x5M5-py3.10",
   "language": "python",
   "name": "python3"
  },
  "language_info": {
   "codemirror_mode": {
    "name": "ipython",
    "version": 3
   },
   "file_extension": ".py",
   "mimetype": "text/x-python",
   "name": "python",
   "nbconvert_exporter": "python",
   "pygments_lexer": "ipython3",
   "version": "3.10.12"
  }
 },
 "nbformat": 4,
 "nbformat_minor": 2
}
